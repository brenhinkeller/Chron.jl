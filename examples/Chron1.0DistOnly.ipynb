{
 "cells": [
  {
   "cell_type": "markdown",
   "metadata": {},
   "source": [
    "# Chron.jl eruption/deposition age estimation\n",
    "\n",
    "This Jupyter notebook demonstrates eruption (/deposition) age estimation component of `Chron.jl`, based on the approach of [Keller, Schoene, and Samperton (2018)](https://doi.org/10.7185/geochemlet.1826). For more information on `Chron.jl` and its other capabilities (largely, age-depth modelling), see [github.com/brenhinkeller/Chron.jl](https://github.com/brenhinkeller/Chron.jl) and and [doi.org/10.17605/osf.io/TQX3F](https://doi.org/10.17605/osf.io/TQX3F)\n",
    "\n",
    "<a href=\"https://mybinder.org/v2/gh/brenhinkeller/Chron.jl/main?filepath=examples%2FChron1.0DistOnly.ipynb\" target=\"_blank\"><img src=\"https://static.mybinder.org/badge_logo.svg\" alt=\"Launch Binder notebook\" align=\"left\"></a> \n",
    "<p style=\"text-indent: 5px\">If running this notebook as an online Binder notebook and the webpage times out, click the badge at left to relaunch (refreshing will not work). Note that any changes will be lost!</p>\n",
    "\n",
    "Hint: `shift`-`enter` to run a single cell, or from the `Cell` menu select `Run All` to run the whole file. Any code from this notebook can be copied and pasted into the Julia REPL or a `.jl` script.\n",
    "***\n",
    "\n",
    "## Load required Julia packages"
   ]
  },
  {
   "cell_type": "code",
   "execution_count": 1,
   "metadata": {},
   "outputs": [],
   "source": [
    "# Load (and install if necessary) the Chron.jl package\n",
    "try\n",
    "    using Chron\n",
    "catch\n",
    "    using Pkg\n",
    "    Pkg.add(\"Chron\")\n",
    "    using Chron\n",
    "end\n",
    "\n",
    "using Statistics, StatsBase, DelimitedFiles, SpecialFunctions\n",
    "using Plots; gr(); default(fmt = :png)"
   ]
  },
  {
   "cell_type": "markdown",
   "metadata": {},
   "source": [
    "***\n",
    "## Enter sample information\n",
    "First, let's enter some basic information about your samples. How many are there, what are the sample names (needs to be a valid filename, BTW), and what are the stratigraphic heights and uncertainties? Then, we'll enter the ages as .csv files."
   ]
  },
  {
   "cell_type": "code",
   "execution_count": 2,
   "metadata": {},
   "outputs": [],
   "source": [
    "nSamples = 5 # The number of samples you have data for\n",
    "smpl = ChronAgeData(nSamples)\n",
    "smpl.Name      =  (\"KJ08-157\", \"KJ04-75\", \"KJ09-66\", \"KJ04-72\", \"KJ04-70\",)\n",
    "smpl.Height   .=  [     -52.0,      44.0,      54.0,      82.0,      93.0,]\n",
    "smpl.Height_sigma .= [    3.0,       1.0,       3.0,       3.0,       3.0,]\n",
    "smpl.Age_Sidedness .= zeros(nSamples) # Sidedness (zeros by default: geochron constraints are two-sided). Use -1 for a maximum age and +1 for a minimum age, 0 for two-sided\n",
    "smpl.Path = \"MyData/\" # Where are the data files? Must match where you put the csv files below.\n",
    "smpl.inputSigmaLevel = 2 # i.e., are the data files 1-sigma or 2-sigma. Integer.\n",
    "\n",
    "smpl.Age_Unit = \"Ma\" # Unit of measurement for ages and errors in the data files\n",
    "smpl.Height_Unit = \"cm\"; # Unit of measurement for Height and Height_sigma"
   ]
  },
  {
   "cell_type": "markdown",
   "metadata": {},
   "source": [
    "Note that smpl.Height *must* increase with increasing stratigraphic height -- i.e., stratigraphically younger samples must be more positive. For this reason, it is convenient to represent depths below surface as negative numbers.\n",
    "***\n",
    "Now let's see what's in our current directory (we'll use `;` to activate Julia's command-line shell mode, followed by a unix command, in this case `ls`"
   ]
  },
  {
   "cell_type": "code",
   "execution_count": 3,
   "metadata": {},
   "outputs": [
    {
     "name": "stdout",
     "output_type": "stream",
     "text": [
      "Chron1.0Coupled.ipynb\n",
      "Chron1.0Coupled.jl\n",
      "Chron1.0DistOnly.ipynb\n",
      "Chron1.0DistOnly.jl\n",
      "Chron1.0Radiocarbon.ipynb\n",
      "Chron1.0Radiocarbon.jl\n",
      "Chron1.0StratOnly.ipynb\n",
      "Chron1.0StratOnly.jl\n",
      "DenverUPbExampleData\n",
      "EruptionDepositionAgeDemonstration.ipynb\n",
      "EruptionDepositionAgeDemonstration.jl\n",
      "MyData\n",
      "archive.tar.gz\n",
      "ffsend\n"
     ]
    }
   ],
   "source": [
    ";ls"
   ]
  },
  {
   "cell_type": "markdown",
   "metadata": {},
   "source": [
    "Equivalently, we can also run unix commands using the `run()` function"
   ]
  },
  {
   "cell_type": "code",
   "execution_count": 4,
   "metadata": {},
   "outputs": [
    {
     "name": "stdout",
     "output_type": "stream",
     "text": [
      "Chron1.0Coupled.ipynb\n",
      "Chron1.0Coupled.jl\n",
      "Chron1.0DistOnly.ipynb\n",
      "Chron1.0DistOnly.jl\n",
      "Chron1.0Radiocarbon.ipynb\n",
      "Chron1.0Radiocarbon.jl\n",
      "Chron1.0StratOnly.ipynb\n",
      "Chron1.0StratOnly.jl\n",
      "DenverUPbExampleData\n",
      "EruptionDepositionAgeDemonstration.ipynb\n",
      "EruptionDepositionAgeDemonstration.jl\n",
      "MyData\n",
      "archive.tar.gz\n",
      "ffsend\n"
     ]
    }
   ],
   "source": [
    "run(`ls`);"
   ]
  },
  {
   "cell_type": "markdown",
   "metadata": {},
   "source": [
    "Now that we know how to access the command line, let's make a new folder for our example data. This can be called whatever you want, just make sure it matches `smpl.Path` above"
   ]
  },
  {
   "cell_type": "code",
   "execution_count": 5,
   "metadata": {},
   "outputs": [],
   "source": [
    ";mkdir -p MyData/"
   ]
  },
  {
   "cell_type": "markdown",
   "metadata": {},
   "source": [
    "Now, let's make some files and paste in csv data for each one. For now, I'm pasting in example data from Clyde et al. (2016), [10.1016/j.epsl.2016.07.041](https://doi.org/10.1016/j.epsl.2016.07.041)"
   ]
  },
  {
   "cell_type": "code",
   "execution_count": 6,
   "metadata": {},
   "outputs": [],
   "source": [
    "# You can just paste your data in here, in the following two-column format.\n",
    "# The first column is age and the second column is two-sigma analytical uncertainty.\n",
    "# You should generally exclude all systematic uncertainties here.\n",
    "data = [\n",
    "66.12 0.14\n",
    "66.115 0.048\n",
    "66.11 0.1\n",
    "66.11 0.17\n",
    "66.096 0.056\n",
    "66.088 0.081\n",
    "66.085 0.076\n",
    "66.073 0.084\n",
    "66.07 0.11\n",
    "66.055 0.043\n",
    "66.05 0.16\n",
    "65.97 0.12\n",
    "]\n",
    "\n",
    "# Now, let's write this data to a file, delimited by commas (',')\n",
    "# In this example the filename is KJ08-157.csv, in the folder called MyData\n",
    "writedlm(\"MyData/KJ08-157.csv\", data, ',')"
   ]
  },
  {
   "cell_type": "code",
   "execution_count": 7,
   "metadata": {},
   "outputs": [],
   "source": [
    "data = [\n",
    "66.24 0.25\n",
    "66.232 0.046\n",
    "66.112 0.085\n",
    "66.09 0.1\n",
    "66.04 0.18\n",
    "66.03 0.12\n",
    "66.016 0.08\n",
    "66.003 0.038\n",
    "65.982 0.071\n",
    "65.98 0.19\n",
    "65.977 0.042\n",
    "65.975 0.066\n",
    "65.971 0.082\n",
    "65.963 0.074\n",
    "65.92 0.12\n",
    "65.916 0.088\n",
    "]\n",
    "writedlm(\"MyData/KJ04-75.csv\",data,',')"
   ]
  },
  {
   "cell_type": "code",
   "execution_count": 8,
   "metadata": {},
   "outputs": [],
   "source": [
    "data = [\n",
    "66.13 0.15\n",
    "66.066 0.052\n",
    "65.999 0.045\n",
    "65.989 0.057\n",
    "65.98 0.11\n",
    "65.961 0.057\n",
    "65.957 0.091\n",
    "65.951 0.066\n",
    "65.95 0.11\n",
    "65.929 0.059\n",
    "]\n",
    "writedlm(\"MyData/KJ09-66.csv\",data,',')"
   ]
  },
  {
   "cell_type": "code",
   "execution_count": 9,
   "metadata": {},
   "outputs": [],
   "source": [
    "data = [\n",
    "66.11 0.2\n",
    "66.003 0.063\n",
    "66.003 0.058\n",
    "65.98 0.06\n",
    "65.976 0.089\n",
    "65.973 0.084\n",
    "65.97 0.15\n",
    "65.963 0.055\n",
    "65.959 0.049\n",
    "65.94 0.18\n",
    "65.928 0.066\n",
    "65.92 0.057\n",
    "65.91 0.14\n",
    "]\n",
    "writedlm(\"MyData/KJ04-72.csv\",data,',')"
   ]
  },
  {
   "cell_type": "code",
   "execution_count": 10,
   "metadata": {},
   "outputs": [],
   "source": [
    "data = [\n",
    "66.22 0.27\n",
    "66.06 0.11\n",
    "65.933 0.066\n",
    "65.918 0.087\n",
    "65.92 0.34\n",
    "65.916 0.067\n",
    "65.91 0.18\n",
    "65.892 0.09\n",
    "65.89 0.063\n",
    "65.89 0.15\n",
    "65.88 0.2\n",
    "65.812 0.069\n",
    "65.76 0.15\n",
    "]\n",
    "writedlm(\"MyData/KJ04-70.csv\",data,',')"
   ]
  },
  {
   "cell_type": "markdown",
   "metadata": {},
   "source": [
    "Alternatively, you could download .csv files that you have posted somewhere online using the Julia `download()` function, or using the unix command `curl` throught the command-line interface"
   ]
  },
  {
   "cell_type": "code",
   "execution_count": null,
   "metadata": {},
   "outputs": [],
   "source": []
  },
  {
   "cell_type": "markdown",
   "metadata": {},
   "source": [
    "For each sample in `smpl.Name`, we must have a `.csv` file in `smpl.Path` which contains each individual mineral age and uncertainty.\n",
    "\n",
    "***\n",
    "## Configure and run eruption/deposition age model\n",
    "To learn more about the eruption/deposition age estimation model, see also [Keller, Schoene, and Sameperton (2018)](https://doi.org/10.7185/geochemlet.1826) and the [BayeZirChron demo notebook](http://brenh.in/BayeZirChron). It is important to note that this model (like most if not all others) has no knowledge of open-system behaviour, so *e.g.*, Pb-loss will lead to erroneous results.\n",
    "\n",
    "#### Boostrap relative pre-eruptive (or pre-depositional) mineral age distribution"
   ]
  },
  {
   "cell_type": "code",
   "execution_count": 11,
   "metadata": {},
   "outputs": [
    {
     "data": {
      "image/png": "[encoded data removed]"
     },
     "metadata": {},
     "output_type": "display_data"
    }
   ],
   "source": [
    "# Bootstrap a KDE of the pre-eruptive (or pre-deposition) zircon distribution\n",
    "# shape from individual sample datafiles using a KDE of stacked sample data\n",
    "BootstrappedDistribution = BootstrapCrystDistributionKDE(smpl)\n",
    "h = plot(range(0,1,length=length(BootstrappedDistribution)), BootstrappedDistribution,\n",
    "    label=\"Bootstrapped distribution\", xlabel=\"Time (arbitrary units)\", ylabel=\"Probability Density\", \n",
    "    fg_color_legend=:white)\n",
    "savefig(h, joinpath(smpl.Path,\"BootstrappedDistribution.pdf\"))\n",
    "display(h)"
   ]
  },
  {
   "cell_type": "markdown",
   "metadata": {},
   "source": [
    "#### Run eruption/deposition age model"
   ]
  },
  {
   "cell_type": "code",
   "execution_count": 12,
   "metadata": {},
   "outputs": [
    {
     "name": "stdout",
     "output_type": "stream",
     "text": [
      "Estimating eruption/deposition age distributions...\n",
      "1: KJ08-157\n",
      "2: KJ04-75\n",
      "3: KJ09-66\n",
      "4: KJ04-72\n",
      "5: KJ04-70\n"
     ]
    }
   ],
   "source": [
    "# Number of steps to run in distribution MCMC\n",
    "distSteps = 10^6\n",
    "distBurnin = distSteps÷100\n",
    "\n",
    "# Choose the form of the prior distribution to use\n",
    "# Some pre-defined possiblilities include UniformDisribution,\n",
    "# TriangularDistribution, and MeltsVolcanicZirconDistribution\n",
    "# or you can define your own as with BootstrappedDistribution above\n",
    "dist = BootstrappedDistribution\n",
    "\n",
    "# Run MCMC to estimate saturation and eruption/deposition age distributions\n",
    "smpl = tMinDistMetropolis(smpl,distSteps,distBurnin,dist)\n",
    "results = vcat([\"Sample\" \"Age\" \"2.5% CI\" \"97.5% CI\" \"sigma\"], hcat(collect(smpl.Name),smpl.Age,smpl.Age_025CI,smpl.Age_975CI,smpl.Age_sigma))\n",
    "writedlm(smpl.Path*\"results.csv\", results, ',');"
   ]
  },
  {
   "cell_type": "code",
   "execution_count": 13,
   "metadata": {},
   "outputs": [
    {
     "name": "stdout",
     "output_type": "stream",
     "text": [
      "BootstrappedDistribution.pdf\n",
      "KJ04-70.csv\n",
      "KJ04-70_distribution.pdf\n",
      "KJ04-70_distribution.svg\n",
      "KJ04-70_rankorder.pdf\n",
      "KJ04-70_rankorder.svg\n",
      "KJ04-72.csv\n",
      "KJ04-72_distribution.pdf\n",
      "KJ04-72_distribution.svg\n",
      "KJ04-72_rankorder.pdf\n",
      "KJ04-72_rankorder.svg\n",
      "KJ04-75.csv\n",
      "KJ04-75_distribution.pdf\n",
      "KJ04-75_distribution.svg\n",
      "KJ04-75_rankorder.pdf\n",
      "KJ04-75_rankorder.svg\n",
      "KJ08-157.csv\n",
      "KJ08-157_distribution.pdf\n",
      "KJ08-157_distribution.svg\n",
      "KJ08-157_rankorder.pdf\n",
      "KJ08-157_rankorder.svg\n",
      "KJ09-66.csv\n",
      "KJ09-66_distribution.pdf\n",
      "KJ09-66_distribution.svg\n",
      "KJ09-66_rankorder.pdf\n",
      "KJ09-66_rankorder.svg\n",
      "results.csv\n"
     ]
    },
    {
     "data": {
      "text/plain": [
       "6×5 Array{Any,2}:\n",
       " \"Sample\"      \"Age\"    \"2.5% CI\"    \"97.5% CI\"   \"sigma\"\n",
       " \"KJ08-157\"  66.0702  66.0339      66.0937       0.0151044\n",
       " \"KJ04-75\"   65.932   65.886       65.9712       0.0219181\n",
       " \"KJ09-66\"   65.9371  65.8925      65.9781       0.0214973\n",
       " \"KJ04-72\"   65.9551  65.9224      65.9767       0.0137792\n",
       " \"KJ04-70\"   65.8309  65.7543      65.8947       0.0363218"
      ]
     },
     "execution_count": 13,
     "metadata": {},
     "output_type": "execute_result"
    }
   ],
   "source": [
    "# Let's see what that did\n",
    "run(`ls $(smpl.Path)`); sleep(0.5)\n",
    "results = readdlm(smpl.Path*\"results.csv\",',')"
   ]
  },
  {
   "cell_type": "markdown",
   "metadata": {},
   "source": [
    "To see what one of these plots looks like, try pasting this into a markdown cell like the one below\n",
    "```\n",
    "<img src=\"MyData/KJ04-75_rankorder.svg\" align=\"left\" width=\"600\"/>\n",
    "```"
   ]
  },
  {
   "cell_type": "markdown",
   "metadata": {},
   "source": [
    "<img src=\"MyData/KJ04-75_rankorder.svg\" align=\"left\" width=\"600\"/>"
   ]
  },
  {
   "cell_type": "markdown",
   "metadata": {},
   "source": [
    "For each sample, the eruption/deposition age distribution is inherently asymmetric, because of the one-sided relationship between mineral closure and eruption/deposition. For example (KJ04-70):\n",
    "\n",
    "<img src=\"MyData/KJ04-70_distribution.svg\" align=\"left\" width=\"600\"/>\n",
    "\n",
    "(if no figure appears, double-click to enter this markdown cell and re-evaluate (`shift`-`enter`) after running the model above"
   ]
  },
  {
   "cell_type": "markdown",
   "metadata": {},
   "source": [
    "***\n",
    "## Getting your data out\n",
    "As before, we can use the unix command `ls` to see all the files we have written. Actually getting them out of here may be harder though."
   ]
  },
  {
   "cell_type": "code",
   "execution_count": 14,
   "metadata": {},
   "outputs": [
    {
     "name": "stdout",
     "output_type": "stream",
     "text": [
      "BootstrappedDistribution.pdf\n",
      "KJ04-70.csv\n",
      "KJ04-70_distribution.pdf\n",
      "KJ04-70_distribution.svg\n",
      "KJ04-70_rankorder.pdf\n",
      "KJ04-70_rankorder.svg\n",
      "KJ04-72.csv\n",
      "KJ04-72_distribution.pdf\n",
      "KJ04-72_distribution.svg\n",
      "KJ04-72_rankorder.pdf\n",
      "KJ04-72_rankorder.svg\n",
      "KJ04-75.csv\n",
      "KJ04-75_distribution.pdf\n",
      "KJ04-75_distribution.svg\n",
      "KJ04-75_rankorder.pdf\n",
      "KJ04-75_rankorder.svg\n",
      "KJ08-157.csv\n",
      "KJ08-157_distribution.pdf\n",
      "KJ08-157_distribution.svg\n",
      "KJ08-157_rankorder.pdf\n",
      "KJ08-157_rankorder.svg\n",
      "KJ09-66.csv\n",
      "KJ09-66_distribution.pdf\n",
      "KJ09-66_distribution.svg\n",
      "KJ09-66_rankorder.pdf\n",
      "KJ09-66_rankorder.svg\n",
      "results.csv\n"
     ]
    }
   ],
   "source": [
    ";ls MyData"
   ]
  },
  {
   "cell_type": "markdown",
   "metadata": {},
   "source": [
    "We could use the trick we learned before to view the SVG files in markdown cells, which you should then be able to right click and download as real vector graphics. e.g. pasting something like\n",
    "```\n",
    "<img src=\"AgeDepthModel.svg\" align=\"left\" width=\"600\"/>\n",
    "```\n",
    "in a markdown cell such as this one"
   ]
  },
  {
   "cell_type": "markdown",
   "metadata": {},
   "source": []
  },
  {
   "cell_type": "markdown",
   "metadata": {},
   "source": [
    "Meanwhile, for the csv files we could try something like `; cat agedist.csv`, but agedist is probably too big to print. Let's try using ffsend instead, which should give you a download link. In fact, while we're at it, we might as well archive and zip the entire directory!"
   ]
  },
  {
   "cell_type": "code",
   "execution_count": 15,
   "metadata": {},
   "outputs": [],
   "source": [
    "# Make gzipped tar archive of the the whole MyData directory\n",
    "run(`tar -zcf archive.tar.gz ./MyData`);"
   ]
  },
  {
   "cell_type": "code",
   "execution_count": 16,
   "metadata": {},
   "outputs": [],
   "source": [
    "# Download prebuilt ffsend linux binary\n",
    "download(\"https://github.com/timvisee/ffsend/releases/download/v0.2.65/ffsend-v0.2.65-linux-x64-static\", \"ffsend\")\n",
    "\n",
    "# Make ffsend executable\n",
    "run(`chmod +x ffsend`);"
   ]
  },
  {
   "cell_type": "code",
   "execution_count": 17,
   "metadata": {},
   "outputs": [
    {
     "name": "stderr",
     "output_type": "stream",
     "text": [
      "/bin/bash: ./ffsend: cannot execute binary file\n"
     ]
    }
   ],
   "source": [
    "; ./ffsend upload archive.tar.gz"
   ]
  },
  {
   "cell_type": "markdown",
   "metadata": {},
   "source": [
    "You could alternatively use the ffsend command in this way to transfer individual files"
   ]
  },
  {
   "cell_type": "code",
   "execution_count": null,
   "metadata": {},
   "outputs": [],
   "source": []
  },
  {
   "cell_type": "markdown",
   "metadata": {},
   "source": [
    "Keep in mind that any changes you make to this online notebook won't persist after you close the tab (or after it times out) even if you save your changes! You have to either copy-paste or `file`>`Download as` a copy.\n",
    "***\n"
   ]
  },
  {
   "cell_type": "code",
   "execution_count": null,
   "metadata": {},
   "outputs": [],
   "source": []
  },
  {
   "cell_type": "markdown",
   "metadata": {},
   "source": [
    "***\n",
    "[![DOI](https://github.com/brenhinkeller/Chron.jl/raw/main/readme_figures/osf_io_TQX3F.svg?sanitize=true)](https://doi.org/10.17605/osf.io/TQX3F) "
   ]
  }
 ],
 "metadata": {
  "@webio": {
   "lastCommId": null,
   "lastKernelId": null
  },
  "kernelspec": {
   "display_name": "Julia 1.5.0-rc1",
   "language": "julia",
   "name": "julia-1.5"
  },
  "language_info": {
   "file_extension": ".jl",
   "mimetype": "application/julia",
   "name": "julia",
   "version": "1.5.0"
  }
 },
 "nbformat": 4,
 "nbformat_minor": 2
}
